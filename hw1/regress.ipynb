{
 "cells": [
  {
   "cell_type": "markdown",
   "id": "4ae647d0",
   "metadata": {},
   "source": [
    "Method 2\n",
    "========\n",
    "\n",
    "- Compute the mean of each seen class.\n",
    "\n",
    "- Learn the multi-output regression model with class attribute vector being the input and the class mean vector being the output (this will use the seen class attributes and their mean vectors).\n",
    "\n",
    "- Apply the learned regression model to compute the mean of each unseen class.\n",
    "\n",
    "- Apply the model to predict labels on unseen class test inputs.\n",
    "\n",
    "- Compute classification accuracies.\n",
    "\n",
    "- Note: You need to try several values of the regularization hyperparameter \\lambda\n"
   ]
  },
  {
   "cell_type": "markdown",
   "id": "c0cc9607",
   "metadata": {},
   "source": [
    "Brief description of Dataset -->\n",
    "\n",
    "X_seen=np.load('X_seen.npy') \t(40 x N_i x D): 40 feature matrices. X_seen[i] is the N_i x D feature matrix of seen class i\n",
    "\n",
    "Xtest=np.load('Xtest.npy')\t(6180, 4096): feature matrix of the test data.\n",
    "\n",
    "Ytest=np.load('Ytest.npy',)\t(6180, 1): ground truth labels of the test data\n",
    "\n",
    "class_attributes_seen=np.load('class_attributes_seen.npy')\t(40, 85): 40x85 matrix with each row being the 85-dimensional class attribute vector of a seen class.\n",
    "\n",
    "class_attributes_unseen=np.load('class_attributes_unseen.npy')\t(10, 85): 10x85 matrix with each row being the 85-dimensional class attribute vector of an  unseen class.\n",
    "\n",
    "\n"
   ]
  },
  {
   "cell_type": "code",
   "execution_count": 8,
   "id": "564625ad",
   "metadata": {},
   "outputs": [],
   "source": [
    "import numpy as np"
   ]
  },
  {
   "cell_type": "code",
   "execution_count": 9,
   "id": "64fcc692",
   "metadata": {},
   "outputs": [],
   "source": [
    "\"\"\" Loading provided datasets\"\"\"\n",
    "\n",
    "X_seen=np.load('X_seen.npy',allow_pickle=True,encoding='bytes')\n",
    "Xtest=np.load('Xtest.npy',allow_pickle=True,encoding='bytes')\n",
    "Ytest=np.load('Ytest.npy',allow_pickle=True,encoding='bytes')\n",
    "class_attributes_seen=np.load('class_attributes_seen.npy',allow_pickle=True,encoding='bytes')\n",
    "class_attributes_unseen=np.load('class_attributes_unseen.npy',allow_pickle=True,encoding='bytes')"
   ]
  },
  {
   "cell_type": "code",
   "execution_count": 10,
   "id": "f8c65040",
   "metadata": {},
   "outputs": [],
   "source": [
    "\"\"\"reg_parameter is a list of hyperparameter λ ; λ values to consider in this method are given in problem\"\"\"\n",
    "\n",
    "reg_parameter = [0.01, 0.1, 1, 10, 20, 50, 100]\n",
    "\n",
    "\"\"\" calculating mean of seen classes for training reg. model by taking mean as output and class attribute vector as input\"\"\"\n",
    "mean_of_seen_cls = []\n",
    "for cls in X_seen:\n",
    "    summation = np.zeros(4096,)\n",
    "    for each_img in cls:\n",
    "        summation = summation+each_img\n",
    "    mean_of_seen_cls.append(summation/len(cls))\n",
    "    \n",
    "\"\"\" M is the matrix of mean of seen classes i.e. output in this model so M is output matrix\"\"\"\n",
    "\"\"\"(40,4096) shape output matrix for 40 classes\"\"\"\n",
    "\n",
    "M = np.array(mean_of_seen_cls).reshape(40,4096)\n",
    "\n",
    "\"\"\" Dataset provided for matrix A\"\"\"\n",
    "A = class_attributes_seen   \n",
    "# a,b = np.shape(A)\n",
    "\"\"\"Identity matrix of 85*85\"\"\"\n",
    "I = np.identity(85)     \n",
    "\n",
    "\n"
   ]
  },
  {
   "cell_type": "code",
   "execution_count": 11,
   "id": "dc2dc409",
   "metadata": {},
   "outputs": [],
   "source": [
    "\"\"\" defining a function for accuracy :\n",
    "(accuracy is the percentage of test inputs with correctly predicted classes)\"\"\"\n",
    "\n",
    "def accuracy(arr1,arr2):\n",
    "    \"\"\" this function takes 2 lists as input and calculates accuracy by maching corresponding values.\"\"\"\n",
    "    count = 0\n",
    "    for value in range(len(arr1)):\n",
    "        if(arr1[value]==arr2[value]):\n",
    "            count = count+1\n",
    "    return count*100/len(arr1)\n",
    "\n"
   ]
  },
  {
   "cell_type": "code",
   "execution_count": 12,
   "id": "f26bb01e",
   "metadata": {},
   "outputs": [
    {
     "name": "stdout",
     "output_type": "stream",
     "text": [
      "7\n"
     ]
    }
   ],
   "source": [
    "\"\"\" initializing an empty list for storing accuracy of reg. model corresponding to each hyperparameter lambda\"\"\"\n",
    "\n",
    "accuracy_list = []\n",
    "\n",
    "\"\"\" In the nested loop below I'm calculating accuracy of each diff. model corresponding to each value of λ given\"\"\"\n",
    "\n",
    "\"\"\"At first model learns weight matrix by closed form formula (given in problem) \n",
    "  then model makes prediction based on this matrix\n",
    "  the predicted labels along with actual labels area passed in accracy function and calc. accuracy is stored in accuracy_list \n",
    "\"\"\"\n",
    "\n",
    "for lmbda in reg_parameter:\n",
    "    W = []\n",
    "    mean_of_unseen_cls = []\n",
    "    Ypred = []\n",
    "    \"\"\" learning weight matrix\"\"\"\n",
    "    W = np.linalg.inv(np.transpose(A) @ A + lmbda * I) @ np.transpose(A) @ M\n",
    "    for cls in range(10):\n",
    "        pred_mean = np.transpose(W) @ class_attributes_unseen[cls]\n",
    "        mean_of_unseen_cls.append(pred_mean)\n",
    "        \n",
    "    \"\"\" taking one img at a time for prediction\"\"\"    \n",
    "    for sample in Xtest:\n",
    "        count=0\n",
    "        minimum = 10**10\n",
    "        while(count<10):\n",
    "            L2_norm = np.linalg.norm(sample-np.array(mean_of_unseen_cls[count]))\n",
    "            if(L2_norm < minimum):\n",
    "                minimum = L2_norm\n",
    "                pred_class = count+1\n",
    "            count = count+1\n",
    "        Ypred.append(pred_class)\n",
    "    accuracy_list.append(accuracy(Ypred,Ytest))\n",
    "    \n",
    "print(len(accuracy_list))"
   ]
  },
  {
   "cell_type": "code",
   "execution_count": 13,
   "id": "a00896cf",
   "metadata": {},
   "outputs": [
    {
     "name": "stdout",
     "output_type": "stream",
     "text": [
      "Accracy for λ = 0.01  is:  58.090614886731395\n",
      "Accracy for λ = 0.1  is:  59.54692556634304\n",
      "Accracy for λ = 1  is:  67.3948220064725\n",
      "Accracy for λ = 10  is:  73.28478964401295\n",
      "Accracy for λ = 20  is:  71.68284789644012\n",
      "Accracy for λ = 50  is:  65.08090614886731\n",
      "Accracy for λ = 100  is:  56.47249190938511\n",
      "The maximum Accuracy is  73.28478964401295  obtained on λ = 10\n"
     ]
    }
   ],
   "source": [
    "\"\"\"Accuracy for each λ\"\"\"\n",
    "\n",
    "for i in range(len(accuracy_list)):\n",
    "    print(\"Accracy for λ =\",reg_parameter[i],\" is: \",accuracy_list[i])\n",
    "\n",
    "max_acc_index = accuracy_list.index(max(accuracy_list))\n",
    "print(\"The maximum Accuracy is \",accuracy_list[max_acc_index],\" obtained on λ =\",reg_parameter[max_acc_index])"
   ]
  }
 ],
 "metadata": {
  "kernelspec": {
   "display_name": "Python 3 (ipykernel)",
   "language": "python",
   "name": "python3"
  },
  "language_info": {
   "codemirror_mode": {
    "name": "ipython",
    "version": 3
   },
   "file_extension": ".py",
   "mimetype": "text/x-python",
   "name": "python",
   "nbconvert_exporter": "python",
   "pygments_lexer": "ipython3",
   "version": "3.11.3"
  }
 },
 "nbformat": 4,
 "nbformat_minor": 5
}
