{
 "cells": [
  {
   "cell_type": "markdown",
   "id": "4ae647d0",
   "metadata": {},
   "source": [
    "Method 1\n",
    "=========\n",
    "- Compute the mean of each seen class.\n",
    "\n",
    "- Compute the similarity (dot product based) of each unseen class with each of the seen classes.\n",
    "\n",
    "- Normalize the similarity vector (to that it sums to 1, since we are using a convex combination).\n",
    "\n",
    "- Compute the mean of each unseen class using a convex combination of means of seen classes.\n",
    "\n",
    "- Apply the model to predict labels on unseen class test inputs.\n",
    "\n",
    "- Compute classification accuracies."
   ]
  },
  {
   "cell_type": "markdown",
   "id": "c0cc9607",
   "metadata": {},
   "source": [
    "Brief description of Dataset -->\n",
    "\n",
    "X_seen=np.load('X_seen.npy') \t(40 x N_i x D): 40 feature matrices. X_seen[i] is the N_i x D feature matrix of seen class i\n",
    "\n",
    "Xtest=np.load('Xtest.npy')\t(6180, 4096): feature matrix of the test data.\n",
    "\n",
    "Ytest=np.load('Ytest.npy',)\t(6180, 1): ground truth labels of the test data\n",
    "\n",
    "class_attributes_seen=np.load('class_attributes_seen.npy')\t(40, 85): 40x85 matrix with each row being the 85-dimensional class attribute vector of a seen class.\n",
    "\n",
    "class_attributes_unseen=np.load('class_attributes_unseen.npy')\t(10, 85): 10x85 matrix with each row being the 85-dimensional class attribute vector of an  unseen class.\n",
    "\n",
    "\n"
   ]
  },
  {
   "cell_type": "code",
   "execution_count": 21,
   "id": "564625ad",
   "metadata": {},
   "outputs": [],
   "source": [
    "import numpy as np"
   ]
  },
  {
   "cell_type": "code",
   "execution_count": 22,
   "id": "499be27f",
   "metadata": {},
   "outputs": [],
   "source": [
    "\"\"\" Loading provided datasets\"\"\"\n",
    "\n",
    "X_seen=np.load('X_seen.npy',allow_pickle=True,encoding='bytes')\n",
    "Xtest=np.load('Xtest.npy',allow_pickle=True,encoding='bytes')\n",
    "Ytest=np.load('Ytest.npy',allow_pickle=True,encoding='bytes')\n",
    "class_attributes_seen=np.load('class_attributes_seen.npy',allow_pickle=True,encoding='bytes')\n",
    "class_attributes_unseen=np.load('class_attributes_unseen.npy',allow_pickle=True,encoding='bytes')"
   ]
  },
  {
   "cell_type": "code",
   "execution_count": 23,
   "id": "0e86bd6e",
   "metadata": {},
   "outputs": [],
   "source": [
    "\"\"\" calculating mean (i.e. prototype vector) for seen classes\"\"\"\n",
    "\n",
    "mean_of_seen_cls = []\n",
    "for cls in X_seen:\n",
    "    summation = np.zeros(4096,)\n",
    "    for each_img in cls:\n",
    "        summation = summation+each_img\n",
    "    mean_of_seen_cls.append(summation/len(cls))\n",
    "    \n",
    "# print(len(mean))\n",
    "# print(len((mean_of_seen_cls[0])))"
   ]
  },
  {
   "cell_type": "code",
   "execution_count": 24,
   "id": "e8849e75",
   "metadata": {},
   "outputs": [],
   "source": [
    "# count = 0\n",
    "# np.shape(np.transpose(class_attributes_unseen[count]))\n",
    "# # np.shape(mean_of_seen_cls[])\n",
    "# # class_attributes_seen[10]"
   ]
  },
  {
   "cell_type": "code",
   "execution_count": 25,
   "id": "f273f30f",
   "metadata": {},
   "outputs": [],
   "source": [
    "\"\"\" calculating mean of unseen classes (prototypr vectors for unseen classes) by calculating similarity matrix\"\"\"\n",
    "mean_of_unseen_cls = []\n",
    "count = 0\n",
    "while(count<10):\n",
    "    similarity = []\n",
    "    for k in range(40):\n",
    "        similarity.append(np.transpose(class_attributes_unseen[count]) @ class_attributes_seen[k])\n",
    "    summation = sum(similarity)\n",
    "    similarity = np.array(similarity)/summation\n",
    "    sum_arr = np.zeros(4096,)\n",
    "    for k in range(40):\n",
    "        sum_arr = sum_arr + similarity[k]*np.array(mean_of_seen_cls[k])\n",
    "    mean_of_unseen_cls.append(sum_arr)\n",
    "    count=count+1\n",
    "    \n",
    "# len(mean_of_unseen_cls[0])"
   ]
  },
  {
   "cell_type": "code",
   "execution_count": 26,
   "id": "6828d7c0",
   "metadata": {},
   "outputs": [],
   "source": [
    "\"\"\" Predicting labels for each test image using calculated prototype vectors for unseen classes\"\"\"\n",
    "\n",
    "Ypred = []\n",
    "for sample in Xtest:\n",
    "    count=0\n",
    "    minimum = 10**100   \n",
    "    \"\"\"initializing a large value to minimum\"\"\"\n",
    "    while(count<10):\n",
    "        L2_norm = np.linalg.norm(sample-np.array(mean_of_unseen_cls[count]))\n",
    "        \"\"\"if current norm(distance) is minimum then hold this for predicting label\"\"\"\n",
    "        if(L2_norm < minimum): \n",
    "            minimum = L2_norm\n",
    "            pred_class = count+1\n",
    "        count = count+1\n",
    "    Ypred.append(pred_class)\n",
    "\n",
    "# Ypred"
   ]
  },
  {
   "cell_type": "code",
   "execution_count": 27,
   "id": "d5790eeb",
   "metadata": {},
   "outputs": [],
   "source": [
    "\"\"\" taking transpose of predicted list by making this list an array\"\"\"\n",
    "Ypred = np.transpose(np.array(Ypred))\n",
    "Ypred = Ypred[:,np.newaxis]\n",
    "\n",
    "# print(np.shape(Ypred))\n",
    "# print(np.shape(Ytest))"
   ]
  },
  {
   "cell_type": "code",
   "execution_count": 28,
   "id": "67d78a96",
   "metadata": {},
   "outputs": [
    {
     "name": "stdout",
     "output_type": "stream",
     "text": [
      "The accuracy for method 1 is: 46.89320388349515\n"
     ]
    }
   ],
   "source": [
    "\"\"\" defining a function for accuracy :\n",
    "(accuracy is the percentage of test inputs with correctly predicted classes)\"\"\"\n",
    "\n",
    "def accuracy(arr1,arr2):\n",
    "    \"\"\" this function takes 2 lists as input and calculates accuracy by maching corresponding values.\"\"\"\n",
    "    count = 0\n",
    "    for value in range(len(arr1)):\n",
    "        if(arr1[value]==arr2[value]):\n",
    "            count = count+1\n",
    "    return count*100/len(arr1)\n",
    "\n",
    "\"\"\"calculating accuracy of prediction by passing actual labels and predicted labels\"\"\"\n",
    "print(\"The accuracy for method 1 is:\",accuracy(Ypred,Ytest))"
   ]
  }
 ],
 "metadata": {
  "kernelspec": {
   "display_name": "Python 3 (ipykernel)",
   "language": "python",
   "name": "python3"
  },
  "language_info": {
   "codemirror_mode": {
    "name": "ipython",
    "version": 3
   },
   "file_extension": ".py",
   "mimetype": "text/x-python",
   "name": "python",
   "nbconvert_exporter": "python",
   "pygments_lexer": "ipython3",
   "version": "3.11.3"
  }
 },
 "nbformat": 4,
 "nbformat_minor": 5
}
